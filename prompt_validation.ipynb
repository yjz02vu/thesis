{
 "cells": [
  {
   "cell_type": "code",
   "execution_count": 1,
   "id": "3e61045a-0a08-4b78-9c54-1e58969038bf",
   "metadata": {
    "tags": []
   },
   "outputs": [],
   "source": [
    "# pip install rouge-score\n",
    "# pip install evaluate\n",
    "# pip install bert-score"
   ]
  },
  {
   "cell_type": "code",
   "execution_count": 2,
   "id": "9274cec6-72d8-4c45-9d60-1c91befd6d66",
   "metadata": {
    "tags": []
   },
   "outputs": [
    {
     "name": "stderr",
     "output_type": "stream",
     "text": [
      "2024-07-12 15:43:47.986433: I tensorflow/core/util/port.cc:113] oneDNN custom operations are on. You may see slightly different numerical results due to floating-point round-off errors from different computation orders. To turn them off, set the environment variable `TF_ENABLE_ONEDNN_OPTS=0`.\n",
      "2024-07-12 15:43:48.014265: E external/local_xla/xla/stream_executor/cuda/cuda_dnn.cc:9261] Unable to register cuDNN factory: Attempting to register factory for plugin cuDNN when one has already been registered\n",
      "2024-07-12 15:43:48.014288: E external/local_xla/xla/stream_executor/cuda/cuda_fft.cc:607] Unable to register cuFFT factory: Attempting to register factory for plugin cuFFT when one has already been registered\n",
      "2024-07-12 15:43:48.015074: E external/local_xla/xla/stream_executor/cuda/cuda_blas.cc:1515] Unable to register cuBLAS factory: Attempting to register factory for plugin cuBLAS when one has already been registered\n",
      "2024-07-12 15:43:48.019770: I tensorflow/core/platform/cpu_feature_guard.cc:182] This TensorFlow binary is optimized to use available CPU instructions in performance-critical operations.\n",
      "To enable the following instructions: AVX2 AVX_VNNI FMA, in other operations, rebuild TensorFlow with the appropriate compiler flags.\n",
      "2024-07-12 15:43:48.625134: W tensorflow/compiler/tf2tensorrt/utils/py_utils.cc:38] TF-TRT Warning: Could not find TensorRT\n"
     ]
    }
   ],
   "source": [
    "import nltk\n",
    "from nltk import word_tokenize\n",
    "from nltk.translate.bleu_score import sentence_bleu, SmoothingFunction\n",
    "from nltk.translate import meteor\n",
    "\n",
    "from rouge_score import rouge_scorer\n",
    "from transformers import BartTokenizer, BartForConditionalGeneration, BartModel\n",
    "import evaluate\n",
    "\n",
    "import torch\n",
    "import json\n",
    "import random\n",
    "import numpy as np"
   ]
  },
  {
   "cell_type": "code",
   "execution_count": 3,
   "id": "e7a89b33-b08b-489b-a834-20a7159fbe37",
   "metadata": {
    "tags": []
   },
   "outputs": [],
   "source": [
    "# Download necessary NLTK data\n",
    "# nltk.download('punkt')"
   ]
  },
  {
   "cell_type": "markdown",
   "id": "ffc8371e-7a11-47e9-8297-3fe8a1f46443",
   "metadata": {},
   "source": [
    "## Data Collection"
   ]
  },
  {
   "cell_type": "code",
   "execution_count": 4,
   "id": "2535d025-9000-427b-b2e3-52c16ce07993",
   "metadata": {},
   "outputs": [],
   "source": [
    "# per conversation list, each item is an utterance\n",
    "# the 1st utterance should have higher score than the second\n",
    "\n",
    "# one prediction vs multiple references, pick the highest score\n",
    "ref_lss = [\n",
    "        [\"The cat is on the mat\",\"There is a cat on the mat\", \"That is a cat on the tree\"],\n",
    "        [\"I don't know what to say\", \"There is a dog barking\", \"There is a cat meowing\"]\n",
    "    ] \n",
    "cad_ls = [\n",
    "        \"The cat is on the mat\", #1st higher\n",
    "        \"A dog is barking\"\n",
    "    ]"
   ]
  },
  {
   "cell_type": "markdown",
   "id": "4a51d942-5365-40e0-ae61-d17f6c163bb0",
   "metadata": {},
   "source": [
    "## Evaluation"
   ]
  },
  {
   "cell_type": "markdown",
   "id": "887038a9-183c-4def-b3c2-a55e3e7aa0db",
   "metadata": {},
   "source": [
    "### Calculate BLEU"
   ]
  },
  {
   "cell_type": "code",
   "execution_count": 5,
   "id": "527f0ead-0f1b-4dfd-beae-99993ca13dcc",
   "metadata": {},
   "outputs": [
    {
     "name": "stdout",
     "output_type": "stream",
     "text": [
      "[1.0, 0.0823]\n",
      "Highest BLEU scores: [1.0, 0.0823]\n",
      "[0.4271, 0.0483]\n",
      "Average BLEU scores: [0.4271, 0.0483]\n"
     ]
    }
   ],
   "source": [
    "\n",
    "def calculate_bleu(reference_texts, hypothesis_text, ngram_order=4, smoothing=True, highest_score=True):\n",
    "    \"\"\"\n",
    "    Calculate BLEU scores for a single hypothesis text against multiple reference texts.\n",
    "    \n",
    "    Parameters:\n",
    "    - reference_texts: List of reference texts (either a list of strings or a list of lists of strings).\n",
    "    - hypothesis_text: Single hypothesis text (string).\n",
    "    - ngram_order: Maximum n-gram order to use for BLEU calculation.\n",
    "    - smoothing: Whether to apply smoothing.\n",
    "    - highest_score: True to calculate the highest score, False to calculate the average score.\n",
    "    \n",
    "    Returns:\n",
    "    - bleu_scores: List of BLEU scores (highest or average) for each set of reference texts.\n",
    "    \"\"\"\n",
    "    smooth_fn = SmoothingFunction().method1 if smoothing else None\n",
    "    weights = tuple((1.0 / ngram_order) for _ in range(ngram_order))\n",
    "    \n",
    "    hypothesis_tokens = hypothesis_text.split()\n",
    "\n",
    "\n",
    "    scores = []\n",
    "    for ref in reference_texts:\n",
    "        ref_tokens = ref.split()\n",
    "        score = sentence_bleu([ref_tokens], hypothesis_tokens, weights=weights, smoothing_function=smooth_fn)\n",
    "        scores.append(score)\n",
    "        \n",
    "    if highest_score:\n",
    "        highest_bleu_score = max(scores)\n",
    "        bleu_scores=round(highest_bleu_score, 4)\n",
    "    else:\n",
    "        average_bleu_score = sum(scores) / len(scores)\n",
    "        bleu_scores=round(average_bleu_score, 4)\n",
    "    \n",
    "    return bleu_scores\n",
    "\n",
    "# highest\n",
    "bleu_cad_h = []\n",
    "for cad, ref_ls in zip(cad_ls, ref_lss):\n",
    "    bleu_cad_h.append(calculate_bleu(ref_ls, cad))\n",
    "    \n",
    "print(bleu_cad_h)\n",
    "print(\"Highest BLEU scores:\", bleu_cad_h)\n",
    "\n",
    "# average\n",
    "bleu_cad_a = []\n",
    "for cad, ref_ls in zip(cad_ls, ref_lss):\n",
    "    bleu_cad_a.append(calculate_bleu(ref_ls, cad, highest_score=False))\n",
    "    \n",
    "print(bleu_cad_a)\n",
    "print(\"Average BLEU scores:\", bleu_cad_a)\n",
    "\n"
   ]
  },
  {
   "cell_type": "markdown",
   "id": "70e12d5f-e169-43a0-a727-256f05c74b49",
   "metadata": {},
   "source": [
    "### Calculate ROUGE "
   ]
  },
  {
   "cell_type": "code",
   "execution_count": 6,
   "id": "124a9a27-2a76-4dfc-b362-b164ce9b51af",
   "metadata": {
    "tags": []
   },
   "outputs": [
    {
     "name": "stdout",
     "output_type": "stream",
     "text": [
      "rouge score of each utterance is [{'rouge1': 1.0, 'rouge2': 1.0, 'rougeL': 1.0}, {'rouge1': 0.8889, 'rouge2': 0.2857, 'rougeL': 0.6667}]\n"
     ]
    }
   ],
   "source": [
    "\n",
    "def cal_rouge_score(reference_list, candidate, ngram_order=['rouge1', 'rouge2', 'rougeL'], highest_score=True):\n",
    "    \"\"\"\n",
    "    Calculate ROUGE score (f-measure) of candidate (highest or average) against each reference in the reference list.\n",
    "   \n",
    "    \n",
    "    Parameters:\n",
    "    - reference_list: List of reference texts.\n",
    "    - candidate: Candidate text to compare against reference texts.\n",
    "    - ngram_order: List of n-grams to use for ROUGE calculation.\n",
    "    - highest_score: True to calculate the highest score, False to calculate the average score.\n",
    "    \n",
    "    Returns:\n",
    "    - score_dict: Dictionary containing ROUGE scores for each n-gram order.\n",
    "    \"\"\"\n",
    "    \n",
    "    # Initialize the ROUGE scorer\n",
    "    scorer = rouge_scorer.RougeScorer(ngram_order, use_stemmer=True)\n",
    "\n",
    "\n",
    "    # Initialize score dicts\n",
    "    score_dicts = {ngram:[] for ngram in ngram_order}\n",
    "\n",
    "    # Calculate ROUGE \n",
    "    for ref in reference_list:\n",
    "        scores = scorer.score(ref, candidate)\n",
    "\n",
    "        for n_gram in ngram_order:\n",
    "            score_dicts[n_gram].append(scores[n_gram].fmeasure)\n",
    "            \n",
    "        \n",
    "    # final score depending on highest/mean\n",
    "    final_dict = {}\n",
    "\n",
    "    for n_gram, score in score_dicts.items():\n",
    "        \n",
    "        if highest_score:\n",
    "            final_dict[n_gram] = round(np.max(score), 4)\n",
    "        else:\n",
    "            final_dict[n_gram] = round(np.mean(score), 4)\n",
    "\n",
    "\n",
    "    return final_dict\n",
    "\n",
    "\n",
    "\n",
    "rouge_cad = []\n",
    "for cad, ref_ls in zip(cad_ls, ref_lss):\n",
    "    rouge_cad.append(cal_rouge_score(ref_ls, cad))\n",
    "# print(rouge_cad)\n",
    "\n",
    "# check matching\n",
    "if len(rouge_cad) == len(cad_ls):\n",
    "    print(f\"rouge score of each utterance is {rouge_cad}\")\n",
    "else:\n",
    "    print(\"the numeber of score and utter not matched\")\n",
    "\n"
   ]
  },
  {
   "cell_type": "markdown",
   "id": "4501e399-023a-4fa9-8b08-d92dbba7fddb",
   "metadata": {},
   "source": [
    "## Calculate Meteor Score"
   ]
  },
  {
   "cell_type": "code",
   "execution_count": 7,
   "id": "3945980e-af4e-47e5-b3ce-27099c4b1e57",
   "metadata": {
    "tags": []
   },
   "outputs": [
    {
     "name": "stdout",
     "output_type": "stream",
     "text": [
      "meteor score of each utterance is [0.9977, 0.6441]\n"
     ]
    }
   ],
   "source": [
    "def cal_meteor(ref_ls, cad, highest_score=True):\n",
    "    \"\"\"\n",
    "    calculate meteor score\n",
    "\n",
    "    Para:\n",
    "    - ref_ls: reference list of utterances\n",
    "    - cad: candidate/prediction string\n",
    "    - highest_score: True to calculate the highest score, False to calculate the average score.\n",
    "\n",
    "    Return:\n",
    "    highest or average score\n",
    "    \"\"\"\n",
    "\n",
    "    scores=[]\n",
    "    for ref in ref_ls:\n",
    "        score = round(meteor([word_tokenize(ref)], word_tokenize(cad)), 4)\n",
    "        scores.append(score)\n",
    "        # print(score)\n",
    "\n",
    "    if highest_score:\n",
    "        final_score=np.max(scores)\n",
    "    else:\n",
    "        final_score=np.mean(scores)\n",
    "\n",
    "    return final_score\n",
    "\n",
    "scores=[]\n",
    "for cad, ref_ls in zip(cad_ls, ref_lss):\n",
    "\n",
    "    scores.append(cal_meteor(ref_ls, cad))\n",
    "    \n",
    "# check matching\n",
    "if len(scores) == len(cad_ls):\n",
    "    print(f\"meteor score of each utterance is {scores}\")\n",
    "else:\n",
    "    print(\"the numeber of score and utter not matched\")    "
   ]
  },
  {
   "cell_type": "markdown",
   "id": "81b31ade-76da-41bb-a1ef-32a44d1054dd",
   "metadata": {},
   "source": [
    "## Calculate Bert-score"
   ]
  },
  {
   "cell_type": "code",
   "execution_count": 9,
   "id": "bda0d9cd-dcf0-4e3e-970e-9aa6f9951180",
   "metadata": {},
   "outputs": [
    {
     "ename": "NameError",
     "evalue": "name 'score' is not defined",
     "output_type": "error",
     "traceback": [
      "\u001b[0;31m---------------------------------------------------------------------------\u001b[0m",
      "\u001b[0;31mNameError\u001b[0m                                 Traceback (most recent call last)",
      "Cell \u001b[0;32mIn[9], line 42\u001b[0m\n\u001b[1;32m     40\u001b[0m bert_cad \u001b[38;5;241m=\u001b[39m []\n\u001b[1;32m     41\u001b[0m \u001b[38;5;28;01mfor\u001b[39;00m cad, ref_ls \u001b[38;5;129;01min\u001b[39;00m \u001b[38;5;28mzip\u001b[39m(cad_ls, ref_lss):\n\u001b[0;32m---> 42\u001b[0m     bert_scores \u001b[38;5;241m=\u001b[39m \u001b[43mcal_bert\u001b[49m\u001b[43m(\u001b[49m\u001b[43mref_ls\u001b[49m\u001b[43m,\u001b[49m\u001b[43m \u001b[49m\u001b[43mcad\u001b[49m\u001b[43m)\u001b[49m\n\u001b[1;32m     43\u001b[0m     bert_cad\u001b[38;5;241m.\u001b[39mappend(bert_scores)\n\u001b[1;32m     44\u001b[0m \u001b[38;5;28mprint\u001b[39m(bert_cad)\n",
      "Cell \u001b[0;32mIn[9], line 18\u001b[0m, in \u001b[0;36mcal_bert\u001b[0;34m(reference_sentences, candidate_sentence, lang, highest_score)\u001b[0m\n\u001b[1;32m     15\u001b[0m candidate_sentences \u001b[38;5;241m=\u001b[39m [candidate_sentence] \u001b[38;5;241m*\u001b[39m \u001b[38;5;28mlen\u001b[39m(reference_sentences)\n\u001b[1;32m     17\u001b[0m \u001b[38;5;66;03m# Calculate BERTScore\u001b[39;00m\n\u001b[0;32m---> 18\u001b[0m P, R, F1 \u001b[38;5;241m=\u001b[39m \u001b[43mscore\u001b[49m(candidate_sentences, reference_sentences, lang\u001b[38;5;241m=\u001b[39mlang, verbose\u001b[38;5;241m=\u001b[39m\u001b[38;5;28;01mTrue\u001b[39;00m)\n\u001b[1;32m     20\u001b[0m \u001b[38;5;28;01mif\u001b[39;00m highest_score:\n\u001b[1;32m     21\u001b[0m     \u001b[38;5;66;03m# Calculate and return the highest BERTScore metrics\u001b[39;00m\n\u001b[1;32m     22\u001b[0m     bert_scores \u001b[38;5;241m=\u001b[39m {\n\u001b[1;32m     23\u001b[0m         \u001b[38;5;124m\"\u001b[39m\u001b[38;5;124mPrecision\u001b[39m\u001b[38;5;124m\"\u001b[39m: \u001b[38;5;28mround\u001b[39m(P\u001b[38;5;241m.\u001b[39mmax()\u001b[38;5;241m.\u001b[39mitem(), \u001b[38;5;241m4\u001b[39m),\n\u001b[1;32m     24\u001b[0m         \u001b[38;5;124m\"\u001b[39m\u001b[38;5;124mRecall\u001b[39m\u001b[38;5;124m\"\u001b[39m: \u001b[38;5;28mround\u001b[39m(R\u001b[38;5;241m.\u001b[39mmax()\u001b[38;5;241m.\u001b[39mitem(), \u001b[38;5;241m4\u001b[39m),\n\u001b[1;32m     25\u001b[0m         \u001b[38;5;124m\"\u001b[39m\u001b[38;5;124mF1\u001b[39m\u001b[38;5;124m\"\u001b[39m: \u001b[38;5;28mround\u001b[39m(F1\u001b[38;5;241m.\u001b[39mmax()\u001b[38;5;241m.\u001b[39mitem(), \u001b[38;5;241m4\u001b[39m)\n\u001b[1;32m     26\u001b[0m     }\n",
      "\u001b[0;31mNameError\u001b[0m: name 'score' is not defined"
     ]
    }
   ],
   "source": [
    "\n",
    "def cal_bert(reference_sentences, candidate_sentence, lang=\"en\", highest_score=True):\n",
    "    \"\"\"\n",
    "    Calculate BERTScore for a single candidate sentence against multiple reference sentences.\n",
    "    \n",
    "    Parameters:\n",
    "    - reference_sentences: List of reference sentences.\n",
    "    - candidate_sentence: Single candidate sentence.\n",
    "    - lang: Language of the sentences.\n",
    "    - highest_score: True to return the highest score, False to return the average score.\n",
    "    \n",
    "    Returns:\n",
    "    - bert_scores: Dictionary containing BERTScore Precision, Recall, and F1 (highest or average).\n",
    "    \"\"\"\n",
    "    # Create a list of the candidate sentence repeated for each reference sentence\n",
    "    candidate_sentences = [candidate_sentence] * len(reference_sentences)\n",
    "    \n",
    "    # Calculate BERTScore\n",
    "    P, R, F1 = score(candidate_sentences, reference_sentences, lang=lang, verbose=True)\n",
    "    \n",
    "    if highest_score:\n",
    "        # Calculate and return the highest BERTScore metrics\n",
    "        bert_scores = {\n",
    "            \"Precision\": round(P.max().item(), 4),\n",
    "            \"Recall\": round(R.max().item(), 4),\n",
    "            \"F1\": round(F1.max().item(), 4)\n",
    "        }\n",
    "    else:\n",
    "        # Calculate and return the mean BERTScore metrics\n",
    "        bert_scores = {\n",
    "            \"Precision\": round(P.mean().item(), 4),\n",
    "            \"Recall\": round(R.mean().item(), 4),\n",
    "            \"F1\": round(F1.mean().item(), 4)\n",
    "        }\n",
    "    \n",
    "    return bert_scores\n",
    "\n",
    "\n",
    "\n",
    "\n",
    "bert_cad = []\n",
    "for cad, ref_ls in zip(cad_ls, ref_lss):\n",
    "    bert_scores = cal_bert(ref_ls, cad)\n",
    "    bert_cad.append(bert_scores)\n",
    "print(bert_cad)\n",
    "\n",
    "# check matching\n",
    "if len(bert_cad) == len(cad_ls):\n",
    "    print(f\"rouge score of each utterance is {bert_cad}\")\n",
    "else:\n",
    "    print(\"the numeber of score and utter not matched\")\n"
   ]
  },
  {
   "cell_type": "markdown",
   "id": "8bc4d425-3d62-49b2-8ce5-1cd4e62ebadb",
   "metadata": {},
   "source": [
    "## Evaluation_all conversations"
   ]
  },
  {
   "cell_type": "code",
   "execution_count": 10,
   "id": "de13d230-de68-4cd6-9915-6c959e474ea3",
   "metadata": {},
   "outputs": [
    {
     "name": "stdout",
     "output_type": "stream",
     "text": [
      "num of cad matches ref groups\n",
      "2 2\n",
      "utter num of 0th cad matches ref num of the group\n",
      "3 3\n",
      "utter num of 1th cad matches ref num of the group\n"
     ]
    }
   ],
   "source": [
    "# multiple converstaions\n",
    "ref_lss = [\n",
    "        [\n",
    "            [\"The cat is not on the mat\",\"There is a cat on the mat\", \"That is a cat on the tree\"], #ref list of 1st utterance\n",
    "            [\"I don't know what to say\", \"There is a dog barking\", \"There is a cat meowing\"]\n",
    "        ],#1 conver\n",
    "        [\n",
    "            [\"A quick brown fox jumps over a lazy dog.\",\"The quick brown fox leaped over the lazy dog.\",\"A fast brown fox jumps over a sleepy dog.\"],\n",
    "            [\"I don't know what to say\", \"There is a dog barking\", \"There is a cat meowing\"],\n",
    "            [\"I don't know what to say\"]\n",
    "        ]#2 conver\n",
    "    ] \n",
    "cad_ls = [\n",
    "        [\"The cat is on the mat\", #1st utterance\n",
    "        \"A dog is barking\"], #1 conver\n",
    "        [\"The quick brown fox jumps over the lazy dog.\",\n",
    "         \"The lazy dog cried because of that\",\n",
    "         \"What to say\"] #2 conver\n",
    "    ]\n",
    "\n",
    "# check num of cad and ref groups\n",
    "if len(ref_lss) == len(cad_ls):\n",
    "    print(\"num of cad matches ref groups\")\n",
    "else:\n",
    "    print(\"num of cad not matches ref groups\")\n",
    "    \n",
    "# check num of utter of cad and ref num per ref group\n",
    "for n,cad in enumerate(cad_ls):\n",
    "    print(len(cad), len(ref_lss[n]))\n",
    "    if len(cad) == len(ref_lss[n]):\n",
    "        print(f\"utter num of {n}th cad matches ref num of the group\")\n",
    "    else:\n",
    "        print(f\"utter num of {n}th cad not matches ref num of the group\")"
   ]
  },
  {
   "cell_type": "code",
   "execution_count": 18,
   "id": "b7ae9d64-bfb3-42cb-b104-68304143115f",
   "metadata": {},
   "outputs": [
    {
     "name": "stdout",
     "output_type": "stream",
     "text": [
      "{'0': [{'bleu4': 0.185}, {'rouge': {'rouge1': 0.906, 'rouge2': 0.5065, 'rougeL': 0.7949}}, {'meteor': 0.7488}], '1': [{'bleu4': 0.2394}, {'rouge': {'rouge1': 0.5519, 'rouge2': 0.4167, 'rougeL': 0.5519}}, {'meteor': 0.5139}]}\n"
     ]
    }
   ],
   "source": [
    "\n",
    "def evaluate_conversations(cad_ls, ref_lss):\n",
    "    \"\"\"\n",
    "    evaluate_conversations scores of bleu, rouge, meteor\n",
    "    \"\"\"\n",
    "    \n",
    "    scores_all = {str(i): [] for i in range(len(cad_ls))}\n",
    "    \n",
    "    for n, cad_l in enumerate(cad_ls):\n",
    "        cad_l_bleu = []\n",
    "        cad_l_rouge = []\n",
    "        cad_l_meteor = []\n",
    "\n",
    "        for cad, ref_l in zip(cad_l, ref_lss[n]):\n",
    "            # print(cad, ref_l)\n",
    "            ngram_bleu = 4\n",
    "            cad_l_bleu.append(calculate_bleu(ref_l, cad, ngram_order=ngram_bleu, smoothing=True, highest_score=True))\n",
    "            cad_l_rouge.append(cal_rouge_score(ref_l, cad, highest_score=True))\n",
    "            cad_l_meteor.append(cal_meteor(ref_l, cad, highest_score=True))\n",
    "        \n",
    "        cad_l_rouges = {}\n",
    "        for dict_scores in cad_l_rouge:\n",
    "            for k, v in dict_scores.items():\n",
    "                if k not in cad_l_rouges:\n",
    "                    cad_l_rouges[k] = [v]\n",
    "                else:\n",
    "                    cad_l_rouges[k].append(v)\n",
    "\n",
    "        scores_all[str(n)] = [\n",
    "            {f\"bleu{ngram_bleu}\": round(np.mean(cad_l_bleu),4)},\n",
    "            {\"rouge\": {k: round(np.mean(v),4) for k, v in cad_l_rouges.items()}},\n",
    "            {\"meteor\": round(np.mean(cad_l_meteor),4)}\n",
    "        ]\n",
    "\n",
    "    return scores_all\n",
    "\n",
    "\n",
    "scores_all = evaluate_conversations(cad_ls, ref_lss)\n",
    "print(scores_all)\n"
   ]
  },
  {
   "cell_type": "code",
   "execution_count": 19,
   "id": "01f8fc8c-2b83-4f88-9d73-171d0ab3b11f",
   "metadata": {},
   "outputs": [
    {
     "name": "stdout",
     "output_type": "stream",
     "text": [
      "{'Candidate': ['Candidate0', 'Candidate1'], 'bleu4': [0.185, 0.2394], 'meteor': [0.7488, 0.5139], 'rouge1': [0.906, 0.5519], 'rouge2': [0.5065, 0.4167], 'rougeL': [0.7949, 0.5519]}\n"
     ]
    }
   ],
   "source": [
    "# scores_all = {\n",
    "#     '0': [{'bleu': 0.185}, {'rouge': {'rouge1': 0.906, 'rouge2': 0.5065, 'rougeL': 0.7949}}, {'meteor': 0.7488}],\n",
    "#     '1': [{'bleu': 0.2394}, {'rouge': {'rouge1': 0.5519, 'rouge2': 0.4167, 'rougeL': 0.5519}}, {'meteor': 0.5139}]\n",
    "# }\n",
    "\n",
    "ngram_bleu = 4\n",
    "ngram_rouge = ['rouge1', 'rouge2', 'rougeL']\n",
    "\n",
    "metrics_names = [f\"bleu{ngram_bleu}\", \"meteor\"]\n",
    "metrics_names.extend(ngram_rouge)\n",
    "# print(metrics_names)\n",
    "\n",
    "data = {}\n",
    "\n",
    "data[\"Candidate\"] = [f\"Candidate{name}\" for name in scores_all.keys()]\n",
    "# print(data)\n",
    "\n",
    "for n in metrics_names:\n",
    "    data[n] = []\n",
    "\n",
    "# print(data)\n",
    "\n",
    "for ls in scores_all.values():\n",
    "    for metric_dict in ls:\n",
    "        for k, v in metric_dict.items():\n",
    "            if k in data:\n",
    "                data[k].append(v)\n",
    "            elif isinstance(v, dict):\n",
    "                for sub_k, sub_v in v.items():\n",
    "                    if sub_k in data:\n",
    "                        data[sub_k].append(sub_v)\n",
    "                    else:\n",
    "                        data[sub_k] = [sub_v]\n",
    "\n",
    "print(data)\n"
   ]
  },
  {
   "cell_type": "markdown",
   "id": "11d85029-69f3-4152-aedf-0d8dcb675c0d",
   "metadata": {},
   "source": [
    "## prompt choices"
   ]
  },
  {
   "cell_type": "code",
   "execution_count": 21,
   "id": "87d56603-2c2a-4459-942d-286f00524f84",
   "metadata": {},
   "outputs": [
    {
     "data": {
      "image/png": "[encoded data removed]",
      "text/plain": [
       "<Figure size 1400x800 with 2 Axes>"
      ]
     },
     "metadata": {},
     "output_type": "display_data"
    }
   ],
   "source": [
    "import pandas as pd\n",
    "import matplotlib.pyplot as plt\n",
    "import seaborn as sns\n",
    "\n",
    "\n",
    "\n",
    "# Create a DataFrame\n",
    "df = pd.DataFrame(data)\n",
    "\n",
    "# Set up the seaborn style\n",
    "sns.set(style=\"whitegrid\")\n",
    "\n",
    "# Plot BLEU scores\n",
    "plt.figure(figsize=(14, 8))\n",
    "\n",
    "# Reshape the DataFrame for plotting\n",
    "melted_bleu = df.melt(id_vars=\"Candidate\", value_vars=[f\"bleu{ngram_bleu}\", \"meteor\"], var_name=\"Metric\", value_name=\"Score\")\n",
    "\n",
    "# Plot BLEU scores with seaborn\n",
    "plt.subplot(2, 1, 1)\n",
    "sns.barplot(x=\"Candidate\", y=\"Score\", hue=\"Metric\", data=melted_bleu)\n",
    "plt.title('BLEU & METEOR Scores')\n",
    "plt.ylabel('Score')\n",
    "plt.legend(loc='upper left')\n",
    "\n",
    "# # Plot ROUGE scores\n",
    "# plt.figure(figsize=(14, 8))\n",
    "\n",
    "# Reshape the DataFrame for plotting\n",
    "melted_rouge = df.melt(id_vars=\"Candidate\", value_vars=ngram_rouge, var_name=\"Metric\", value_name=\"Score\")\n",
    "\n",
    "# Plot ROUGE scores with seaborn\n",
    "plt.subplot(2, 1, 2)\n",
    "sns.barplot(x=\"Candidate\", y=\"Score\", hue=\"Metric\", data=melted_rouge)\n",
    "plt.title('ROUGE Scores')\n",
    "plt.ylabel('Score')\n",
    "plt.legend(loc='upper left')\n",
    "\n",
    "plt.tight_layout()\n",
    "plt.show()\n"
   ]
  },
  {
   "cell_type": "code",
   "execution_count": null,
   "id": "69a8d02d-93eb-4ebe-9e3b-b97bf17b5766",
   "metadata": {},
   "outputs": [],
   "source": []
  },
  {
   "cell_type": "code",
   "execution_count": null,
   "id": "33c7221b-53ea-4ccf-87d3-a959f70425e0",
   "metadata": {},
   "outputs": [],
   "source": []
  }
 ],
 "metadata": {
  "kernelspec": {
   "display_name": "Python 3 (ipykernel)",
   "language": "python",
   "name": "python3"
  },
  "language_info": {
   "codemirror_mode": {
    "name": "ipython",
    "version": 3
   },
   "file_extension": ".py",
   "mimetype": "text/x-python",
   "name": "python",
   "nbconvert_exporter": "python",
   "pygments_lexer": "ipython3",
   "version": "3.10.12"
  }
 },
 "nbformat": 4,
 "nbformat_minor": 5
}
