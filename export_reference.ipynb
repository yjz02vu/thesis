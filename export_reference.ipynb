{
 "cells": [
  {
   "cell_type": "code",
   "execution_count": 1,
   "id": "3ce561ba-170c-438a-a40a-d93446525a36",
   "metadata": {
    "tags": []
   },
   "outputs": [],
   "source": [
    "# pip install gspread oauth2client pandas"
   ]
  },
  {
   "cell_type": "code",
   "execution_count": 1,
   "id": "222e4729-d14e-4017-87a7-689809b5f5f1",
   "metadata": {
    "tags": []
   },
   "outputs": [
    {
     "name": "stdout",
     "output_type": "stream",
     "text": [
      "references of communication has been exported\n",
      "references of mobility has been exported\n",
      "references of self-care has been exported\n"
     ]
    }
   ],
   "source": [
    "import gspread\n",
    "from oauth2client.service_account import ServiceAccountCredentials\n",
    "import pandas as pd\n",
    "\n",
    "import os\n",
    "import json\n",
    "\n",
    "# Path where you want to save the file\n",
    "file_path = 'response_data/references/raw/'\n",
    "os.makedirs(os.path.dirname(file_path), exist_ok=True)\n",
    "\n",
    "# Define the scope and authorize the client\n",
    "scope = ['https://spreadsheets.google.com/feeds', 'https://www.googleapis.com/auth/drive']\n",
    "credentials = ServiceAccountCredentials.from_json_keyfile_name('', scope)  # Replace with your JSON file\n",
    "client = gspread.authorize(credentials)\n",
    "\n",
    "# Open the Google Sheet by name or URL\n",
    "functions = [\"communication\",\"mobility\", \"self-care\"]\n",
    "# functions = [\"communication\"]\n",
    "\n",
    "for function in functions:\n",
    "\n",
    "    sheet_name = f\"{function}_test_scheme\"\n",
    "\n",
    "    spreadsheet = client.open(sheet_name)  # Replace with your sheet name or use client.open_by_url('Sheet_URL')\n",
    "\n",
    "\n",
    "\n",
    "    # Select the first sheet or by sheet title\n",
    "    sheet = spreadsheet.sheet1  \n",
    "\n",
    "    # Extract all data into a list of lists\n",
    "    data = sheet.get_all_values()\n",
    "\n",
    "    # Convert data to a Pandas DataFrame\n",
    "    df = pd.DataFrame(data[1:], columns=data[0])  # The first row will be used as the header\n",
    "\n",
    "    # Display the DataFrame\n",
    "    # print(df)\n",
    "    \n",
    "    # Convert the DataFrame to a JSON string\n",
    "    json_data = df.to_json(orient='records', indent=4)\n",
    "    \n",
    "    \n",
    "    # Save the JSON string to a file\n",
    "    output = f\"{file_path}{function}.json\"\n",
    "    with open(output, 'w') as json_file:\n",
    "        json_file.write(json_data)\n",
    "\n",
    "    print(f'references of {function} has been exported')\n"
   ]
  },
  {
   "cell_type": "code",
   "execution_count": 2,
   "id": "0160b6da-36de-4a59-91e9-833005f49056",
   "metadata": {
    "tags": []
   },
   "outputs": [],
   "source": [
    "def format_ref(conversation):\n",
    "    \"\"\"\n",
    "    format the right form of reference\n",
    "    \"\"\"\n",
    "    \n",
    "\n",
    "    patterns = {\n",
    "        r\"[cC]\\s*[:;]\": \"C:\",\n",
    "        r\"[pP]\\s*[:;]\": \"P:\"\n",
    "    }\n",
    "\n",
    "    # Replace each pattern in the conversation\n",
    "    for pattern, replacement in patterns.items():\n",
    "        conversation = re.sub(pattern, replacement, conversation)\n",
    "        \n",
    "    return conversation"
   ]
  },
  {
   "cell_type": "code",
   "execution_count": 3,
   "id": "5f5d7901-87f9-4346-901a-96e9f9b3df71",
   "metadata": {
    "tags": []
   },
   "outputs": [],
   "source": [
    "# se=\"C; how do you feel about the lady in the shop who always smiles at you ?P; She is a lovely lady, a true gentle soul, that makes me happy,  C;what made you so happy about it? P: i just love true gentle souls\"\n",
    "# se = format_ref(se)\n",
    "# print(se)"
   ]
  },
  {
   "cell_type": "code",
   "execution_count": 4,
   "id": "864e3638-5d76-459b-804f-a9df3701745e",
   "metadata": {
    "tags": []
   },
   "outputs": [
    {
     "name": "stdout",
     "output_type": "stream",
     "text": [
      "filtered conversations and references of communication have been saved\n",
      "filtered conversations and references of mobility have been saved\n",
      "filtered conversations and references of self-care have been saved\n"
     ]
    }
   ],
   "source": [
    "import json\n",
    "import re\n",
    "\n",
    "# fil_test_path = 'response_data/test_convers/'\n",
    "# os.makedirs(os.path.dirname(file_path), exist_ok=True)\n",
    "\n",
    "stat_dic = {}\n",
    "# test_dic = {}\n",
    "# fil_con_dic = {}\n",
    "\n",
    "# functions = [\"communication\"]\n",
    "\n",
    "ref_clean_path = 'response_data/references/filtered/'\n",
    "os.makedirs(os.path.dirname(ref_clean_path), exist_ok=True)\n",
    "\n",
    "for function in functions:\n",
    "    stat_dic[function] = {}\n",
    "    ref_raw_path = f'response_data/references/raw/{function}.json'\n",
    "\n",
    "    # Read the JSON file\n",
    "    with open(ref_raw_path, 'r') as json_file:\n",
    "        data = json.load(json_file)\n",
    "\n",
    "    # Filter the data\n",
    "    # test_input = []\n",
    "    fil_ref = []\n",
    "    \n",
    "    category = \"\"\n",
    "    \n",
    "    # test_conv=[]\n",
    "    for dic in data:\n",
    "        # Fill in the category\n",
    "        \n",
    "        if dic[\"Category\"]:\n",
    "            # print(dic[\"Category\"])\n",
    "            category = dic[\"Category\"]\n",
    "        else:\n",
    "            # print(category)\n",
    "            dic[\"Category\"]= category\n",
    "        # Check if \"Conversation\" is not empty\n",
    "        conversation = dic.get(\"Conversation\")\n",
    "        \n",
    "        # Check if either \"FQ on function level\" or \"FQ on feedback\" is not empty\n",
    "        fq_function_level = dic.get(\"FQ on function level\")\n",
    "        fq_function_level = format_ref(fq_function_level)\n",
    "        dic[\"FQ on function level\"] = fq_function_level\n",
    "        \n",
    "        fq_feedback = dic.get(\"FQ on feedback\")\n",
    "        fq_feedback = format_ref(fq_feedback)\n",
    "        dic[\"FQ on feedback\"] = fq_feedback\n",
    "        \n",
    "\n",
    "\n",
    "\n",
    "        #Keep the dictionary only if conversation is not empty and at least one FQ field is not empty\n",
    "        if conversation and (fq_function_level or fq_feedback):\n",
    "            # test_input.append(conversation)\n",
    "            fil_ref.append(dic)\n",
    "            \n",
    "\n",
    "\n",
    "    test_con_p = f\"{ref_clean_path}{function}.json\"\n",
    "    with open(test_con_p, 'w') as json_file:\n",
    "        json.dump(fil_ref, json_file, indent=4)\n",
    "        print(f'filtered conversations and references of {function} have been saved')\n",
    "\n",
    "\n",
    "# Assuming stat_dic is already initialized and function, cate are defined\n",
    "    for dic in fil_ref:  # assuming data is a list of dictionaries\n",
    "        if dic[\"Category\"]:\n",
    "            cate = dic[\"Category\"]\n",
    "\n",
    "        # Initialize the category in stat_dic if not already present\n",
    "        if cate not in stat_dic[function]:\n",
    "            stat_dic[function][cate] = {}\n",
    "\n",
    "                # Initialize the keys with 0 if they don't exist\n",
    "            stat_dic[function][cate].setdefault(\"Conversation\", 0)\n",
    "            stat_dic[function][cate].setdefault(\"FQ on function level\", 0)\n",
    "            stat_dic[function][cate].setdefault(\"FQ on feedback\", 0)\n",
    "\n",
    "            # Count the \"Conversation\"\n",
    "        if dic.get(\"Conversation\"):\n",
    "            stat_dic[function][cate][\"Conversation\"] += 1\n",
    "\n",
    "            # Count the \"FQ on function level\"\n",
    "        if dic.get(\"FQ on function level\"):\n",
    "            stat_dic[function][cate][\"FQ on function level\"] += 1\n",
    "\n",
    "            # Count the \"FQ on feedback\"\n",
    "        if dic.get(\"FQ on feedback\"):\n",
    "            stat_dic[function][cate][\"FQ on feedback\"] += 1\n",
    "\n",
    "\n",
    "        \n"
   ]
  },
  {
   "cell_type": "code",
   "execution_count": 5,
   "id": "fe5ede56-bac7-43d4-b0ce-e70eca1e5d52",
   "metadata": {
    "tags": []
   },
   "outputs": [
    {
     "name": "stdout",
     "output_type": "stream",
     "text": [
      "{'communication': {'Communicating with receiving spoken messages': {'Conversation': 4, 'FQ on function level': 4, 'FQ on feedback': 4}, 'Communicating with receiving nonverbal messages': {'Conversation': 3, 'FQ on function level': 3, 'FQ on feedback': 2}, 'Communicating with receiving formal sign language messages': {'Conversation': 2, 'FQ on function level': 2, 'FQ on feedback': 2}, 'Communicating with receiving written messages': {'Conversation': 3, 'FQ on function level': 3, 'FQ on feedback': 3}, 'Speaking': {'Conversation': 3, 'FQ on function level': 3, 'FQ on feedback': 3}, 'Non-speech vocal expression': {'Conversation': 2, 'FQ on function level': 2, 'FQ on feedback': 2}, 'Singing': {'Conversation': 3, 'FQ on function level': 3, 'FQ on feedback': 3}, 'Producing nonverbal messages': {'Conversation': 3, 'FQ on function level': 3, 'FQ on feedback': 3}, 'Producing messages in formal sign language': {'Conversation': 2, 'FQ on function level': 2, 'FQ on feedback': 2}, 'Writing messages': {'Conversation': 2, 'FQ on function level': 2, 'FQ on feedback': 2}, 'Conversation': {'Conversation': 3, 'FQ on function level': 3, 'FQ on feedback': 3}, 'Discussion': {'Conversation': 3, 'FQ on function level': 3, 'FQ on feedback': 3}, 'Using communication devices and techniques': {'Conversation': 3, 'FQ on function level': 3, 'FQ on feedback': 3}}, 'mobility': {'Changing basic body position': {'Conversation': 6, 'FQ on function level': 6, 'FQ on feedback': 6}, 'Maintaining body position': {'Conversation': 6, 'FQ on function level': 6, 'FQ on feedback': 3}, 'Transferring oneself': {'Conversation': 5, 'FQ on function level': 5, 'FQ on feedback': 2}, 'Lifting and carrying objects': {'Conversation': 4, 'FQ on function level': 4, 'FQ on feedback': 2}, 'Moving objects with lower extremities': {'Conversation': 4, 'FQ on function level': 4, 'FQ on feedback': 2}, 'Fine hand use': {'Conversation': 4, 'FQ on function level': 4, 'FQ on feedback': 2}, 'Hand and arm use': {'Conversation': 4, 'FQ on function level': 4, 'FQ on feedback': 2}, 'Fine foot use': {'Conversation': 2, 'FQ on function level': 2, 'FQ on feedback': 0}, 'Walking': {'Conversation': 4, 'FQ on function level': 4, 'FQ on feedback': 2}, 'Going up and down stairs': {'Conversation': 2, 'FQ on function level': 2, 'FQ on feedback': 2}, 'Moving around': {'Conversation': 2, 'FQ on function level': 2, 'FQ on feedback': 2}, 'Moving around in different locations': {'Conversation': 2, 'FQ on function level': 2, 'FQ on feedback': 2}, 'Moving around using equipment': {'Conversation': 3, 'FQ on function level': 3, 'FQ on feedback': 1}, 'Using transportation': {'Conversation': 2, 'FQ on function level': 2, 'FQ on feedback': 2}, 'Driving': {'Conversation': 2, 'FQ on function level': 2, 'FQ on feedback': 2}}, 'self-care': {'Washing oneself': {'Conversation': 6, 'FQ on function level': 6, 'FQ on feedback': 6}, 'Caring for body parts': {'Conversation': 6, 'FQ on function level': 6, 'FQ on feedback': 6}, 'Toileting': {'Conversation': 5, 'FQ on function level': 5, 'FQ on feedback': 5}, 'Dressing': {'Conversation': 2, 'FQ on function level': 2, 'FQ on feedback': 2}, 'Eating': {'Conversation': 2, 'FQ on function level': 2, 'FQ on feedback': 2}, 'Drinking': {'Conversation': 2, 'FQ on function level': 2, 'FQ on feedback': 2}, \"Looking after one's health\": {'Conversation': 2, 'FQ on function level': 2, 'FQ on feedback': 2}}}\n"
     ]
    }
   ],
   "source": [
    "print(stat_dic)"
   ]
  },
  {
   "cell_type": "code",
   "execution_count": 8,
   "id": "a6db964b-9e90-473f-a1ca-4a106a559bdb",
   "metadata": {
    "tags": []
   },
   "outputs": [
    {
     "name": "stdout",
     "output_type": "stream",
     "text": [
      "\n",
      "Total Conversations of communication: 36\n",
      "Total FQ on Function Level of communication: 36\n",
      "Total FQ on Feedback of communication: 35\n",
      "\n",
      "\n",
      "Total Conversations of mobility: 52\n",
      "Total FQ on Function Level of mobility: 52\n",
      "Total FQ on Feedback of mobility: 32\n",
      "\n",
      "\n",
      "Total Conversations of self-care: 25\n",
      "Total FQ on Function Level of self-care: 25\n",
      "Total FQ on Feedback of self-care: 25\n",
      "\n"
     ]
    }
   ],
   "source": [
    "for function in functions:\n",
    "\n",
    "    total_conversations = 0\n",
    "    total_fq_function_level = 0\n",
    "    total_fq_feedback = 0\n",
    "\n",
    "    # Calculate totals\n",
    "    print()\n",
    "\n",
    "    for category in stat_dic[function]:\n",
    "        # print(stat_dic[function][category].keys())\n",
    "        total_conversations += stat_dic[function][category]['Conversation']\n",
    "        total_fq_function_level += stat_dic[function][category]['FQ on function level']\n",
    "        total_fq_feedback += stat_dic[function][category]['FQ on feedback']\n",
    "\n",
    "    # Print results\n",
    "    print(f\"Total Conversations of {function}: {total_conversations}\")\n",
    "    print(f\"Total FQ on Function Level of {function}: {total_fq_function_level}\")\n",
    "    print(f\"Total FQ on Feedback of {function}: {total_fq_feedback}\")\n",
    "    print()"
   ]
  },
  {
   "cell_type": "code",
   "execution_count": 9,
   "id": "81b748cb-67f1-4834-b057-6b4118587575",
   "metadata": {
    "tags": []
   },
   "outputs": [
    {
     "name": "stdout",
     "output_type": "stream",
     "text": [
      "Test conversations of communication have been saved\n",
      "Total Test Convers of communication: 36\n",
      "Test conversations of self-care have been saved\n",
      "Total Test Convers of self-care: 25\n",
      "Test conversations of mobility have been saved\n",
      "Total Test Convers of mobility: 52\n"
     ]
    }
   ],
   "source": [
    "# save conversations for test\n",
    "functions = [\"communication\", \"self-care\", \"mobility\"]\n",
    "# functions = [\"communication\"]\n",
    "\n",
    "\n",
    "for function in functions:\n",
    "    \n",
    "    test_con_p = f\"response_data/references/filtered/{function}.json\"\n",
    "    # refe_path = f\"response_data/references/filtered/{function}.json\"\n",
    "    with open(test_con_p, \"r\") as refer:\n",
    "        refer_dics = json.load(refer)\n",
    "        \n",
    "    con_dic = {}\n",
    "    for d in refer_dics:\n",
    "        if not d[\"Category\"] in con_dic:\n",
    "            con_dic[d[\"Category\"]]=[d[\"Conversation\"]]\n",
    "        else:\n",
    "            con_dic[d[\"Category\"]].append(d[\"Conversation\"])\n",
    "\n",
    "    with open(f\"response_data/test_data/in_conver/{function}.json\", 'w') as json_file:\n",
    "        json.dump(con_dic, json_file, indent=4)\n",
    "        print(f'Test conversations of {function} have been saved')\n",
    "\n",
    "    # print(con_dic)\n",
    "\n",
    "    num = 0\n",
    "    for k,v in con_dic.items():\n",
    "        num += len(v)\n",
    "    print(f\"Total Test Convers of {function}: {num}\")\n"
   ]
  },
  {
   "cell_type": "code",
   "execution_count": null,
   "id": "85a47ec4-2315-4ded-85ed-fb7eb1a40e4e",
   "metadata": {},
   "outputs": [],
   "source": []
  }
 ],
 "metadata": {
  "kernelspec": {
   "display_name": "Python 3 (ipykernel)",
   "language": "python",
   "name": "python3"
  },
  "language_info": {
   "codemirror_mode": {
    "name": "ipython",
    "version": 3
   },
   "file_extension": ".py",
   "mimetype": "text/x-python",
   "name": "python",
   "nbconvert_exporter": "python",
   "pygments_lexer": "ipython3",
   "version": "3.11.5"
  }
 },
 "nbformat": 4,
 "nbformat_minor": 5
}
