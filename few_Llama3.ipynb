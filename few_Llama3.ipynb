{
 "cells": [
  {
   "cell_type": "markdown",
   "id": "028e7367-719b-476e-b373-8ebf6d4d5ad9",
   "metadata": {
    "id": "028e7367-719b-476e-b373-8ebf6d4d5ad9"
   },
   "source": [
    "### Using LLama3\n",
    "\n",
    "https://python.langchain.com/docs/integrations/llms/llamacpp/\n",
    "\n",
    "\n",
    "This notebook requires a llama server to run in another terminal.\n",
    "\n",
    "To install the server:\n",
    "\n",
    "python -m venv venv\n",
    "\n",
    "pip install --upgrade --quiet  llama-cpp-python\n",
    "pip install sse_starlette\n",
    "pip install starlette_context\n",
    "pip install pydantic_settings\n",
    "pip install openai\n",
    "\n",
    "\n",
    "Download a Llama model from huggingface, e.g.:\n",
    "\n",
    " https://huggingface.co/QuantFactory/Meta-Llama-3-8B-Instruct-GGUF\n",
    "\n",
    "and place it in a local folder.\n",
    "\n",
    "\n",
    "To launch llama_server in another terminal specify the path to the local model and the port:\n",
    "\n",
    "    python -m llama_cpp.server --host 0.0.0.0 --model ./models/Meta-Llama-3-8B-Instruct.Q2_K.gguf --n_ctx 2048 --port 9001\n",
    "\n",
    "This notebook creates an OPenAI client and will send the prompt request to the server for a response"
   ]
  },
  {
   "cell_type": "code",
   "execution_count": 2,
   "id": "1oLQfnf7ULeL",
   "metadata": {
    "colab": {
     "base_uri": "https://localhost:8080/"
    },
    "id": "1oLQfnf7ULeL",
    "outputId": "689e26cb-403a-4e14-c67b-2c6d58e80976",
    "tags": []
   },
   "outputs": [
    {
     "name": "stdout",
     "output_type": "stream",
     "text": [
      "Requirement already satisfied: openai in /home/ziggy/anaconda3/lib/python3.11/site-packages (1.28.0)\n",
      "Requirement already satisfied: anyio<5,>=3.5.0 in /home/ziggy/anaconda3/lib/python3.11/site-packages (from openai) (3.5.0)\n",
      "Requirement already satisfied: distro<2,>=1.7.0 in /home/ziggy/anaconda3/lib/python3.11/site-packages (from openai) (1.9.0)\n",
      "Requirement already satisfied: httpx<1,>=0.23.0 in /home/ziggy/anaconda3/lib/python3.11/site-packages (from openai) (0.27.0)\n",
      "Requirement already satisfied: pydantic<3,>=1.9.0 in /home/ziggy/anaconda3/lib/python3.11/site-packages (from openai) (1.10.8)\n",
      "Requirement already satisfied: sniffio in /home/ziggy/anaconda3/lib/python3.11/site-packages (from openai) (1.2.0)\n",
      "Requirement already satisfied: tqdm>4 in /home/ziggy/anaconda3/lib/python3.11/site-packages (from openai) (4.65.0)\n",
      "Requirement already satisfied: typing-extensions<5,>=4.7 in /home/ziggy/anaconda3/lib/python3.11/site-packages (from openai) (4.7.1)\n",
      "Requirement already satisfied: idna>=2.8 in /home/ziggy/anaconda3/lib/python3.11/site-packages (from anyio<5,>=3.5.0->openai) (3.4)\n",
      "Requirement already satisfied: certifi in /home/ziggy/anaconda3/lib/python3.11/site-packages (from httpx<1,>=0.23.0->openai) (2023.7.22)\n",
      "Requirement already satisfied: httpcore==1.* in /home/ziggy/anaconda3/lib/python3.11/site-packages (from httpx<1,>=0.23.0->openai) (1.0.5)\n",
      "Requirement already satisfied: h11<0.15,>=0.13 in /home/ziggy/anaconda3/lib/python3.11/site-packages (from httpcore==1.*->httpx<1,>=0.23.0->openai) (0.14.0)\n",
      "Note: you may need to restart the kernel to use updated packages.\n"
     ]
    }
   ],
   "source": [
    "pip install openai"
   ]
  },
  {
   "cell_type": "code",
   "execution_count": 1,
   "id": "576fa53d-e66d-46ca-88ba-c045f954046d",
   "metadata": {
    "id": "576fa53d-e66d-46ca-88ba-c045f954046d",
    "tags": []
   },
   "outputs": [],
   "source": [
    "import json\n",
    "from openai import OpenAI"
   ]
  },
  {
   "cell_type": "markdown",
   "id": "0d57a488-ea80-4444-903b-0520a2860173",
   "metadata": {
    "id": "0d57a488-ea80-4444-903b-0520a2860173"
   },
   "source": [
    "https://platform.openai.com/examples"
   ]
  },
  {
   "cell_type": "code",
   "execution_count": 2,
   "id": "8e3cb3e1-82c9-4dd1-bda8-307681326aa9",
   "metadata": {
    "id": "8e3cb3e1-82c9-4dd1-bda8-307681326aa9",
    "tags": []
   },
   "outputs": [],
   "source": [
    "client = OpenAI(base_url=\"http://localhost:9001/v1\", api_key=\"not-needed\")"
   ]
  },
  {
   "cell_type": "code",
   "execution_count": 3,
   "id": "9679204a-9e70-4a45-95f5-287111b3b131",
   "metadata": {
    "tags": []
   },
   "outputs": [
    {
     "name": "stdout",
     "output_type": "stream",
     "text": [
      "dict_keys(['self-care'])\n"
     ]
    }
   ],
   "source": [
    "# Path to the JSON file\n",
    "file_path = './clean_conversations/self-care_clean.json'\n",
    "\n",
    "# Open and read the file\n",
    "with open(file_path, 'r') as file:\n",
    "    data = json.load(file)\n",
    "\n",
    "# Now data is a dictionary or list depending on the JSON structure\n",
    "print(data.keys())\n"
   ]
  },
  {
   "cell_type": "code",
   "execution_count": 4,
   "id": "e0e6c04f-fc2a-424e-b1fe-c23217c9a753",
   "metadata": {
    "tags": []
   },
   "outputs": [
    {
     "name": "stdout",
     "output_type": "stream",
     "text": [
      "<class 'list'>\n"
     ]
    }
   ],
   "source": [
    "str_l = list(data.values())\n",
    "print(type(str_l[0]))"
   ]
  },
  {
   "cell_type": "code",
   "execution_count": 5,
   "id": "76383be4-a62a-41ff-8b86-7112c7900d8c",
   "metadata": {
    "tags": []
   },
   "outputs": [
    {
     "data": {
      "text/plain": [
       "\"F: How has your day been so far in terms of your daily routine?\\nP: Well, I usually start the day with showering soon after waking up in the morning. \\nF: Oh, that sounds refreshing! Do you prefer a quick shower? \\nP: Yes, a quick shower to wake me up and get ready for the day. \\nF: Do you often wash your hands throughout the day as well? \\nP: Definitely, especially before handling food and after using the restroom. \\nF: That's important for staying healthy. What about washing your face? \\nP: I usually wash my face twice a day – once in the morning and once at night. \\nF: It's good to keep a simple routine!\""
      ]
     },
     "execution_count": 5,
     "metadata": {},
     "output_type": "execute_result"
    }
   ],
   "source": [
    "sent_e=str_l[0][1]\n",
    "sent_e"
   ]
  },
  {
   "cell_type": "code",
   "execution_count": 6,
   "id": "592b7f75-680c-4367-9430-8dbb4bb2d961",
   "metadata": {
    "tags": []
   },
   "outputs": [
    {
     "name": "stdout",
     "output_type": "stream",
     "text": [
      "Modified text: F: How has your day been so far in terms of your daily routine?\n",
      "P: Well, I usually start the day with showering soon after waking up in the morning. \n",
      "F: Oh, that sounds refreshing! Do you prefer a quick shower? \n",
      "P: Yes, a quick shower to wake me up and get ready for the day. \n",
      "F: Do you often wash your hands throughout the day as well? \n",
      "P: Definitely, especially before handling food and after using the restroom. \n",
      "F: That's important for staying healthy. What about washing your face? \n",
      "P: I usually wash my face twice a day – once in the morning and once at night. \n"
     ]
    }
   ],
   "source": [
    "import re\n",
    "\n",
    "text = sent_e\n",
    "\n",
    "# delete the question if it's the last sentence\n",
    "if re.search(r'\\nF:.*$', text):\n",
    "    p = r'\\nF:.*$'\n",
    "    new_text = re.sub(p, '', text)\n",
    "elif re.search(r'\\nP:.*$', text):\n",
    "    new_text = text\n",
    "else:\n",
    "    new_text = text\n",
    "\n",
    "print(\"Modified text:\", new_text)\n"
   ]
  },
  {
   "cell_type": "markdown",
   "id": "03b68346-d58a-410e-a8ae-7f69d06fe242",
   "metadata": {},
   "source": [
    "## prompting engineering - zero-shot"
   ]
  },
  {
   "cell_type": "markdown",
   "id": "d762175b-7f3b-41ab-8fd9-a1375a093a87",
   "metadata": {},
   "source": [
    "### 1st try\n",
    "instruct: almost orginal prompting\n",
    "\n",
    "result :there is activity diescription (like the off-line description) and there is a note to record why the model asks this way\n"
   ]
  },
  {
   "cell_type": "code",
   "execution_count": 7,
   "id": "8d555950-b708-4ee4-bb66-6370eb224398",
   "metadata": {
    "tags": []
   },
   "outputs": [],
   "source": [
    "\n",
    "# system plays the role of care-takers\n",
    "instruct_assis = {\"role\": \"system\", \"content\": \"You are a care taker that has a conversation with an elderly person. \\\n",
    "             I will give you the conversation history in which the elderly person describes an activity and you give a response. \\\n",
    "             Answer with follow-up questions to ask about more specific questions to monitor the self care level.\\\n",
    "             The follow-up questions can be about more specific questions to reflect the functioning. \\\n",
    "             For example, when the activity is washing body parts, the follow up questions can be ask about the performance difficulty of the activity.\\\n",
    "             The follow-up questions can also ask the person's perception or feeling about the activity.\"\n",
    "\n",
    "           }\n",
    "\n",
    "instruct_user = {\"role\": \"system\", \"content\": \"You are a an elderly person that has a conversation with a care taker. \\\n",
    "             You are asked with questions and you always provide well-reasoned answers to the questions that are both natural and short.\"\n",
    "\n",
    "           }\n",
    "\n",
    "\n",
    "# .(none, absent, negligible,... ) such as mild, moderate, severe and complete performance\n"
   ]
  },
  {
   "cell_type": "markdown",
   "id": "345d153e-f8bf-4e19-a3cc-28f82fd89dda",
   "metadata": {},
   "source": [
    "## 2nd try\n",
    "instruct: \n",
    "1. general: speicify this is online conversation to avoid the description of the motivation of the ct\n",
    "2. (zero-shot) continue the given conversations as a care-taker without additional information but the general ICF(1st layer) of the activity\n",
    "\n",
    "result:\n",
    "\n"
   ]
  },
  {
   "cell_type": "code",
   "execution_count": null,
   "id": "c4f4bb8e-a1ab-4a27-8079-c9bdc36780fd",
   "metadata": {},
   "outputs": [],
   "source": [
    "category = \"self care\"\n",
    "\n",
    "# system plays the role of care-takers\n",
    "instruct_assis = {\"role\": \"system\", \"content\": f\"You are a care taker that has a conversation with an elderly person. \\\n",
    "             I will give you the conversation history in which the elderly person describes an activity of {category} and you give a response. \\\n",
    "             Answer with follow-up questions to ask about more specific questions to monitor the function level of {category}.\\\n",
    "             The follow-up questions are able to reflect the functioning of {category} by asking relevant information.\"\n",
    "\n",
    "           }\n",
    "\n",
    "instruct_user = {\"role\": \"system\", \"content\": \"You are a an elderly person that has a conversation with a care taker. \\\n",
    "             You are asked with questions and you always provide well-reasoned answers to the questions that are both natural and short.\"\n",
    "\n",
    "           }\n",
    "\n",
    "\n",
    "# .(none, absent, negligible,... ) such as mild, moderate, severe and complete performance\n"
   ]
  },
  {
   "cell_type": "markdown",
   "id": "bbeb310f-5037-4fa3-8a0a-3f3661ee28c4",
   "metadata": {},
   "source": [
    "## prompting engineering -few-shot"
   ]
  },
  {
   "cell_type": "markdown",
   "id": "0ee92b27-caae-4442-9669-dac47080b1ea",
   "metadata": {},
   "source": [
    "## 1st try\n",
    "instruct: \n",
    "1. category:\n",
    "    * cate1: mobility (prompt zero)\n",
    "    * cate2: walking and moving (generating the general conver)\n",
    "    * cate3: d450 walking (prompt few)\n",
    "    * cate4: d4500 walking short distance (guide of FQ)\n",
    "\n",
    "\n",
    "2. (few-shot) continue the given conversations (context) as a care-taker with category (specific history information), FQ type (indicate the wanted information), examples (specify the information format)\n",
    "\n",
    "result :\n",
    "1. there is still note to indicate the motivation of asking such question\n",
    "2. the generated converstion sths not end with answers but another questions\n"
   ]
  },
  {
   "cell_type": "code",
   "execution_count": 7,
   "id": "e2963ada-8cb6-4c61-bbd8-1bcb47be8e7c",
   "metadata": {
    "tags": []
   },
   "outputs": [],
   "source": [
    "\n",
    "# system plays the role of care-takers\n",
    "instruct_assis = {\"role\": \"system\", \"content\": f\"You are a care taker that has a online conversation with an elderly person. \\\n",
    "             I will give you the conversation about {cate1} and you give a response. \\\n",
    "             Answer with follow-up questions to ask about more specific questions to monitor the function level of {definition}, such as {cate2}\\\n",
    "             The follow-up questions are related to ICF categories, include {cate4} or relevant information\\\n",
    "             Or the follow-up questions can focus on feedback and it needs to measure the difficulty of performing or the difficulty felt by the elderly person.\\\n",
    "             For example, {example}.\"\n",
    "\n",
    "           }\n",
    "\n",
    "instruct_user = {\"role\": \"system\", \"content\": \"You are a an elderly person that has a conversation with a care taker. \\\n",
    "             You are asked with questions and you always provide well-reasoned answers to the questions that are both natural and short.\"\n",
    "\n",
    "           }\n",
    "\n",
    "\n",
    "# .(none, absent, negligible,... ) such as mild, moderate, severe and complete performance\n"
   ]
  },
  {
   "cell_type": "code",
   "execution_count": 8,
   "id": "762fb505-3dad-4351-9d3c-bc897799f657",
   "metadata": {
    "tags": []
   },
   "outputs": [],
   "source": [
    "def generate_qa(role, prompt):\n",
    "    \n",
    "    if role == instruct_assis:\n",
    "        role_name = \"assistant\"\n",
    "        \n",
    "    elif role == instruct_user:\n",
    "        role_name = \"user\"\n",
    "\n",
    "    completion = client.chat.completions.create(\n",
    "    model=\"local-model\", \n",
    "    messages=prompt,\n",
    "    temperature=0.9,\n",
    "    max_tokens=100,\n",
    "    stream=True,\n",
    "    )\n",
    "    new_message = {\"role\": f\"{role_name}\", \"content\": \"\"}\n",
    "    for chunk in completion:\n",
    "        if chunk.choices[0].delta.content:\n",
    "            print(chunk.choices[0].delta.content, end=\"\", flush=True)\n",
    "            new_message[\"content\"] += chunk.choices[0].delta.content\n",
    "\n",
    "    prompt.append(new_message)\n",
    "    return prompt"
   ]
  },
  {
   "cell_type": "code",
   "execution_count": 9,
   "id": "25ebdef2-7e0f-47a9-a5b4-64c7a4339a5b",
   "metadata": {
    "tags": []
   },
   "outputs": [],
   "source": [
    "def prompt_4roles(instruct_assis, instruct_user, new_text):\n",
    "    \"\"\"\n",
    "    Given the conversation history, continue the conversations with the system playing different roles.\n",
    "    The output is a new turn of conversation.\n",
    "    \n",
    "    Parameters:\n",
    "    instruct_assis: dict - Instruction for the assistant role\n",
    "    instruct_user: dict - Instruction for the user role\n",
    "    new_text: str - Initial conversation history\n",
    "    \n",
    "    Returns:\n",
    "    prompt: list - Updated conversation history with new turns\n",
    "    \"\"\"\n",
    "\n",
    "\n",
    "    prompt = [\n",
    "        instruct_assis,\n",
    "        {\"role\": \"user\", \"content\": new_text}\n",
    "    ]\n",
    "    # prompt = generate_qa(instruct_assis, prompt)\n",
    "    \n",
    "    # Alternate turns between assistant and user\n",
    "    for _ in range(3):\n",
    "        \n",
    "        # Assistant's turn\n",
    "        prompt[0] = instruct_assis\n",
    "        prompt = generate_qa(instruct_assis, prompt)\n",
    "        \n",
    "        # User's turn\n",
    "        prompt[0] = instruct_user\n",
    "        prompt = generate_qa(instruct_user, prompt)\n",
    "        \n",
    "\n",
    "    \n",
    "    return prompt\n",
    "\n",
    "    "
   ]
  },
  {
   "cell_type": "code",
   "execution_count": 10,
   "id": "b9f386b5-17d5-4fad-8874-3c7b88b4f4d8",
   "metadata": {
    "tags": []
   },
   "outputs": [
    {
     "name": "stdout",
     "output_type": "stream",
     "text": [
      "F: Are you able to do a thorough job of cleaning your face, including the areas around your nose and mouth?\n",
      "\n",
      "(Note: I'm asking this question to assess if they're doing a thorough job of washing their face, paying attention to specific areas that might be difficult for someone with limited dexterity or vision)P: Ah, yes! When I wash my face in the morning and evening, I make sure to use a gentle cleanser and I take my time to thoroughly rinse off all dirt and makeup. I pay extra attention to the areas around my nose and mouth, making sure to get all the creases and folds clean.F: That's great! It sounds like you're taking your time and being methodical when washing your face, especially in areas that can be hard to reach. Can you tell me more about how you're handling any stubborn or difficult areas of skin, such as the sides of your nose or around your mouth? Do you find yourself having trouble getting into those areas with soap and water?P: Actually, I do have some difficulty getting into those small creases and folds. Sometimes I'll use a gentle exfoliating scrub to help loosen any stubborn dirt or impurities before washing my face. It seems to make it easier for me to get a good clean in those areas. And if I'm having trouble reaching certain spots, I'll often tilt my head back slightly so I can get better access with the washcloth or sponge.F: That's clever! Using an exfoliating scrub before washing your face is a great technique to help loosen dirt and impurities. It sounds like you're adapting to your own limitations by using different techniques, such as tilting your head back, to compensate for the difficulty in reaching certain areas.\n",
      "\n",
      "Can you tell me more about how you perceive your ability to perform these actions? Does it make you feel frustrated or does it not bother you at all that you have trouble getting into those small creF: I'm interested in understanding your perspective on this issue. How do you feel when you're struggling to reach certain areas of your skin, like the sides of your nose and around your mouth? Does it make you feel frustrated or does it not bother you at all that you have trouble getting into those small crevices?[{'role': 'system', 'content': 'You are a an elderly person that has a conversation with a care taker.              You are asked with questions and you always provide well-reasoned answers to the questions that are both natural and short.'}, {'role': 'user', 'content': \"F: How has your day been so far in terms of your daily routine?\\nP: Well, I usually start the day with showering soon after waking up in the morning. \\nF: Oh, that sounds refreshing! Do you prefer a quick shower? \\nP: Yes, a quick shower to wake me up and get ready for the day. \\nF: Do you often wash your hands throughout the day as well? \\nP: Definitely, especially before handling food and after using the restroom. \\nF: That's important for staying healthy. What about washing your face? \\nP: I usually wash my face twice a day – once in the morning and once at night. \"}, {'role': 'assistant', 'content': \"F: Are you able to do a thorough job of cleaning your face, including the areas around your nose and mouth?\\n\\n(Note: I'm asking this question to assess if they're doing a thorough job of washing their face, paying attention to specific areas that might be difficult for someone with limited dexterity or vision)\"}, {'role': 'user', 'content': 'P: Ah, yes! When I wash my face in the morning and evening, I make sure to use a gentle cleanser and I take my time to thoroughly rinse off all dirt and makeup. I pay extra attention to the areas around my nose and mouth, making sure to get all the creases and folds clean.'}, {'role': 'assistant', 'content': \"F: That's great! It sounds like you're taking your time and being methodical when washing your face, especially in areas that can be hard to reach. Can you tell me more about how you're handling any stubborn or difficult areas of skin, such as the sides of your nose or around your mouth? Do you find yourself having trouble getting into those areas with soap and water?\"}, {'role': 'user', 'content': \"P: Actually, I do have some difficulty getting into those small creases and folds. Sometimes I'll use a gentle exfoliating scrub to help loosen any stubborn dirt or impurities before washing my face. It seems to make it easier for me to get a good clean in those areas. And if I'm having trouble reaching certain spots, I'll often tilt my head back slightly so I can get better access with the washcloth or sponge.\"}, {'role': 'assistant', 'content': \"F: That's clever! Using an exfoliating scrub before washing your face is a great technique to help loosen dirt and impurities. It sounds like you're adapting to your own limitations by using different techniques, such as tilting your head back, to compensate for the difficulty in reaching certain areas.\\n\\nCan you tell me more about how you perceive your ability to perform these actions? Does it make you feel frustrated or does it not bother you at all that you have trouble getting into those small cre\"}, {'role': 'user', 'content': \"F: I'm interested in understanding your perspective on this issue. How do you feel when you're struggling to reach certain areas of your skin, like the sides of your nose and around your mouth? Does it make you feel frustrated or does it not bother you at all that you have trouble getting into those small crevices?\"}]\n"
     ]
    }
   ],
   "source": [
    "new_prompt = prompt_4roles(instruct_assis, instruct_user, new_text)\n",
    "print(new_prompt)"
   ]
  },
  {
   "cell_type": "code",
   "execution_count": 11,
   "id": "48b98903-4ccb-4235-a1a0-72ffd1335fea",
   "metadata": {
    "tags": []
   },
   "outputs": [],
   "source": [
    "def print_conversation(prompt):\n",
    "    \"\"\"\n",
    "    transfer the content of prompt into the form of conversations \n",
    "    \"\"\"\n",
    "    len_num=len(prompt)\n",
    "    dialog=prompt[1][\"content\"] + \"\\n\" #seperate the fq from the original conversations\n",
    "    for i in range(len_num):\n",
    "        if i > 1:\n",
    "            new_str = \"\\n\" + prompt[i][\"content\"]\n",
    "        else:\n",
    "            continue\n",
    "        dialog += new_str\n",
    "    return dialog\n",
    "                \n"
   ]
  },
  {
   "cell_type": "code",
   "execution_count": 12,
   "id": "5dda49a6-9fcd-4078-92a4-303be4398f8e",
   "metadata": {
    "tags": []
   },
   "outputs": [
    {
     "name": "stdout",
     "output_type": "stream",
     "text": [
      "F: How has your day been so far in terms of your daily routine?\n",
      "P: Well, I usually start the day with showering soon after waking up in the morning. \n",
      "F: Oh, that sounds refreshing! Do you prefer a quick shower? \n",
      "P: Yes, a quick shower to wake me up and get ready for the day. \n",
      "F: Do you often wash your hands throughout the day as well? \n",
      "P: Definitely, especially before handling food and after using the restroom. \n",
      "F: That's important for staying healthy. What about washing your face? \n",
      "P: I usually wash my face twice a day – once in the morning and once at night. \n",
      "\n",
      "F: Are you able to do a thorough job of cleaning your face, including the areas around your nose and mouth?\n",
      "\n",
      "(Note: I'm asking this question to assess if they're doing a thorough job of washing their face, paying attention to specific areas that might be difficult for someone with limited dexterity or vision)\n",
      "P: Ah, yes! When I wash my face in the morning and evening, I make sure to use a gentle cleanser and I take my time to thoroughly rinse off all dirt and makeup. I pay extra attention to the areas around my nose and mouth, making sure to get all the creases and folds clean.\n",
      "F: That's great! It sounds like you're taking your time and being methodical when washing your face, especially in areas that can be hard to reach. Can you tell me more about how you're handling any stubborn or difficult areas of skin, such as the sides of your nose or around your mouth? Do you find yourself having trouble getting into those areas with soap and water?\n",
      "P: Actually, I do have some difficulty getting into those small creases and folds. Sometimes I'll use a gentle exfoliating scrub to help loosen any stubborn dirt or impurities before washing my face. It seems to make it easier for me to get a good clean in those areas. And if I'm having trouble reaching certain spots, I'll often tilt my head back slightly so I can get better access with the washcloth or sponge.\n",
      "F: That's clever! Using an exfoliating scrub before washing your face is a great technique to help loosen dirt and impurities. It sounds like you're adapting to your own limitations by using different techniques, such as tilting your head back, to compensate for the difficulty in reaching certain areas.\n",
      "\n",
      "Can you tell me more about how you perceive your ability to perform these actions? Does it make you feel frustrated or does it not bother you at all that you have trouble getting into those small cre\n",
      "F: I'm interested in understanding your perspective on this issue. How do you feel when you're struggling to reach certain areas of your skin, like the sides of your nose and around your mouth? Does it make you feel frustrated or does it not bother you at all that you have trouble getting into those small crevices?\n"
     ]
    }
   ],
   "source": [
    "new_dialog=print_conversation(new_prompt)\n",
    "print(new_dialog)"
   ]
  },
  {
   "cell_type": "markdown",
   "id": "e1285a36-1ff4-4b26-a1d4-b4e1beae2083",
   "metadata": {},
   "source": [
    "## making categories"
   ]
  },
  {
   "cell_type": "code",
   "execution_count": 11,
   "id": "f7f1c7d5-7190-4356-a6b3-05fef291a9c6",
   "metadata": {
    "tags": []
   },
   "outputs": [
    {
     "name": "stdout",
     "output_type": "stream",
     "text": [
      "dict_items([('event', 'walking'), ('subcategory', ('walking distance', 'walking on different surfaces', 'walking with obsatcles')), ('difficulty of activity', ('mild', 'moderate', 'severe', 'complete'))])\n"
     ]
    }
   ],
   "source": [
    "subcategory = {\n",
    "    \"event\": \"walking\",\n",
    "    \"subcategory\": (\n",
    "        \"walking distance\", \"walking on different surfaces\", \"walking with obsatcles\",\n",
    "    ),\n",
    "    \n",
    "    \"difficulty of activity\": (\"mild\", \"moderate\", \"severe\", \"complete\"\n",
    "    )\n",
    "} \n",
    "\n",
    "print(subcategory.items())"
   ]
  }
 ],
 "metadata": {
  "colab": {
   "provenance": []
  },
  "kernelspec": {
   "display_name": "Python 3 (ipykernel)",
   "language": "python",
   "name": "python3"
  },
  "language_info": {
   "codemirror_mode": {
    "name": "ipython",
    "version": 3
   },
   "file_extension": ".py",
   "mimetype": "text/x-python",
   "name": "python",
   "nbconvert_exporter": "python",
   "pygments_lexer": "ipython3",
   "version": "3.11.5"
  }
 },
 "nbformat": 4,
 "nbformat_minor": 5
}
